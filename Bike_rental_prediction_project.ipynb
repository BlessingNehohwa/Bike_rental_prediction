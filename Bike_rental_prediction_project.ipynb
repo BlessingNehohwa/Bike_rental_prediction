{
 "cells": [
  {
   "cell_type": "markdown",
   "metadata": {},
   "source": [
    "**Project title :- Bike Renting Prediction**"
   ]
  },
  {
   "cell_type": "markdown",
   "metadata": {},
   "source": [
    "**Problem statement :-**"
   ]
  },
  {
   "cell_type": "markdown",
   "metadata": {},
   "source": [
    "The objective of this Case is to Predication of bike rental count on daily based on the environmental and seasonal settings."
   ]
  },
  {
   "cell_type": "markdown",
   "metadata": {},
   "source": [
    "**Contents :-**\n",
    "             \n",
    "        1. Exploratory Data Analysis\n",
    "           * Loading the dataset and libraries\n",
    "           * Data cleaning\n",
    "           * Typecasting the attributes\n",
    "           * Missing value analysis\n",
    "        2. Attributes distributions and trends\n",
    "           * Monthly distribution of counts\n",
    "           * Yearly distribution of counts\n",
    "           * Outliers analysis\n",
    "        3. Normality test\n",
    "        4. Correlation matrix \n",
    "        5. Split the dataset into train and test dataset\n",
    "        6. Encoding the categorical features\n",
    "        7. Modelling the training dataset\n",
    "           * Linear Regression Model\n",
    "           * Decision Tree Regressor Model\n",
    "           * Random Forest Model\n",
    "        8. Cross Validation Prediction\n",
    "           * Linear Regression CV Prediction\n",
    "           * Decision Tree Regressor CV Prediction\n",
    "           * Random Forest CV Prediction\n",
    "        9. Model performance on test dataset\n",
    "           * Linear Regression Prediction\n",
    "           * Decision Tree Regressor Prediction\n",
    "           * Random Forest Prediction\n",
    "        10. Model Evaluation Metrics\n",
    "           * R-squared score\n",
    "           * Root mean square error\n",
    "           * Mean absolute error\n",
    "        11.Choosing best model for predicting bike rental count"
   ]
  },
  {
   "cell_type": "markdown",
   "metadata": {},
   "source": [
    "**Exploratory Data Analysis**"
   ]
  },
  {
   "cell_type": "markdown",
   "metadata": {},
   "source": [
    "**Import the required libraries**"
   ]
  },
  {
   "cell_type": "code",
   "execution_count": 1,
   "metadata": {
    "_cell_guid": "b1076dfc-b9ad-4769-8c92-a6c4dae69d19",
    "_uuid": "8f2839f25d086af736a60e9eeb907d3b93b6e0e5",
    "execution": {
     "iopub.execute_input": "2022-08-03T08:30:52.460478Z",
     "iopub.status.busy": "2022-08-03T08:30:52.459697Z",
     "iopub.status.idle": "2022-08-03T08:30:53.621234Z",
     "shell.execute_reply": "2022-08-03T08:30:53.620081Z",
     "shell.execute_reply.started": "2022-08-03T08:30:52.460377Z"
    }
   },
   "outputs": [],
   "source": [
    "import numpy as np \n",
    "import pandas as pd\n",
    "import matplotlib.pyplot as plt\n",
    "import seaborn as sns\n",
    "from sklearn.model_selection import train_test_split\n",
    "import warnings\n",
    "warnings.filterwarnings('ignore')\n",
    "import os\n",
    "print(os.listdir(\"../input\"))\n",
    "\n"
   ]
  },
  {
   "cell_type": "markdown",
   "metadata": {},
   "source": [
    "**Read the training data**"
   ]
  },
  {
   "cell_type": "code",
   "execution_count": 2,
   "metadata": {
    "_cell_guid": "79c7e3d0-c299-4dcb-8224-4455121ee9b0",
    "_uuid": "d629ff2d2480ee46fbb7e2d37f6b5fab8052498a",
    "execution": {
     "iopub.execute_input": "2022-08-03T08:30:53.624789Z",
     "iopub.status.busy": "2022-08-03T08:30:53.624107Z",
     "iopub.status.idle": "2022-08-03T08:30:53.643037Z",
     "shell.execute_reply": "2022-08-03T08:30:53.641787Z",
     "shell.execute_reply.started": "2022-08-03T08:30:53.624721Z"
    }
   },
   "outputs": [],
   "source": [
    "#import the csv file\n",
    "bike_df=pd.read_csv("C:/Users/beemu/Downloads/Projects data sets/Bicycles.csv")"
   ]
  },
  {
   "cell_type": "markdown",
   "metadata": {},
   "source": [
    "**Shape of the dataset**"
   ]
  },
  {
   "cell_type": "code",
   "execution_count": 3,
   "metadata": {
    "execution": {
     "iopub.execute_input": "2022-08-03T08:30:53.644938Z",
     "iopub.status.busy": "2022-08-03T08:30:53.644568Z",
     "iopub.status.idle": "2022-08-03T08:30:53.653542Z",
     "shell.execute_reply": "2022-08-03T08:30:53.652320Z",
     "shell.execute_reply.started": "2022-08-03T08:30:53.644867Z"
    }
   },
   "outputs": [],
   "source": [
    "#Shape of the dataset\n",
    "bike_df.shape"
   ]
  },
  {
   "cell_type": "markdown",
   "metadata": {},
   "source": [
    "The dataset contains 731 observations and 16 attributes."
   ]
  },
  {
   "cell_type": "markdown",
   "metadata": {},
   "source": [
    "**Data types**"
   ]
  },
  {
   "cell_type": "code",
   "execution_count": 4,
   "metadata": {
    "execution": {
     "iopub.execute_input": "2022-08-03T08:30:53.656107Z",
     "iopub.status.busy": "2022-08-03T08:30:53.655265Z",
     "iopub.status.idle": "2022-08-03T08:30:53.671710Z",
     "shell.execute_reply": "2022-08-03T08:30:53.670763Z",
     "shell.execute_reply.started": "2022-08-03T08:30:53.655888Z"
    }
   },
   "outputs": [],
   "source": [
    "#Data types\n",
    "bike_df.dtypes"
   ]
  },
  {
   "cell_type": "code",
   "execution_count": 5,
   "metadata": {
    "execution": {
     "iopub.execute_input": "2022-08-03T08:30:53.674110Z",
     "iopub.status.busy": "2022-08-03T08:30:53.673423Z",
     "iopub.status.idle": "2022-08-03T08:30:53.727348Z",
     "shell.execute_reply": "2022-08-03T08:30:53.726317Z",
     "shell.execute_reply.started": "2022-08-03T08:30:53.674050Z"
    }
   },
   "outputs": [],
   "source": [
    "#Read the data\n",
    "bike_df.head(5)"
   ]
  },
  {
   "cell_type": "markdown",
   "metadata": {},
   "source": [
    "**Rename the columns for better understanding of variables**"
   ]
  },
  {
   "cell_type": "code",
   "execution_count": 6,
   "metadata": {
    "execution": {
     "iopub.execute_input": "2022-08-03T08:30:53.729383Z",
     "iopub.status.busy": "2022-08-03T08:30:53.729040Z",
     "iopub.status.idle": "2022-08-03T08:30:53.735568Z",
     "shell.execute_reply": "2022-08-03T08:30:53.734528Z",
     "shell.execute_reply.started": "2022-08-03T08:30:53.729318Z"
    }
   },
   "outputs": [],
   "source": [
    "#Rename the columns\n",
    "bike_df.rename(columns={'instant':'rec_id','dteday':'datetime','yr':'year','mnth':'month','weathersit':'weather_condition',\n",
    "                       'hum':'humidity','cnt':'total_count'},inplace=True)"
   ]
  },
  {
   "cell_type": "code",
   "execution_count": 7,
   "metadata": {
    "execution": {
     "iopub.execute_input": "2022-08-03T08:30:53.737088Z",
     "iopub.status.busy": "2022-08-03T08:30:53.736595Z",
     "iopub.status.idle": "2022-08-03T08:30:53.780511Z",
     "shell.execute_reply": "2022-08-03T08:30:53.779515Z",
     "shell.execute_reply.started": "2022-08-03T08:30:53.737043Z"
    }
   },
   "outputs": [],
   "source": [
    "#Read the data\n",
    "bike_df.head(5)"
   ]
  },
  {
   "cell_type": "markdown",
   "metadata": {},
   "source": [
    "**Typecasting the datetime and numerical attributes**"
   ]
  },
  {
   "cell_type": "code",
   "execution_count": 8,
   "metadata": {
    "execution": {
     "iopub.execute_input": "2022-08-03T08:30:53.782706Z",
     "iopub.status.busy": "2022-08-03T08:30:53.782105Z",
     "iopub.status.idle": "2022-08-03T08:30:53.800401Z",
     "shell.execute_reply": "2022-08-03T08:30:53.799375Z",
     "shell.execute_reply.started": "2022-08-03T08:30:53.782647Z"
    }
   },
   "outputs": [],
   "source": [
    "#Type casting the datetime and numerical attributes to category\n",
    "\n",
    "bike_df['datetime']=pd.to_datetime(bike_df.datetime)\n",
    "\n",
    "bike_df['season']=bike_df.season.astype('category')\n",
    "bike_df['year']=bike_df.year.astype('category')\n",
    "bike_df['month']=bike_df.month.astype('category')\n",
    "bike_df['holiday']=bike_df.holiday.astype('category')\n",
    "bike_df['weekday']=bike_df.weekday.astype('category')\n",
    "bike_df['workingday']=bike_df.workingday.astype('category')\n",
    "bike_df['weather_condition']=bike_df.weather_condition.astype('category')"
   ]
  },
  {
   "cell_type": "code",
   "execution_count": 9,
   "metadata": {
    "execution": {
     "iopub.execute_input": "2022-08-03T08:30:53.802356Z",
     "iopub.status.busy": "2022-08-03T08:30:53.801813Z",
     "iopub.status.idle": "2022-08-03T08:30:53.861313Z",
     "shell.execute_reply": "2022-08-03T08:30:53.860360Z",
     "shell.execute_reply.started": "2022-08-03T08:30:53.802300Z"
    }
   },
   "outputs": [],
   "source": [
    "#Summary of the dataset\n",
    "bike_df.describe()"
   ]
  },
  {
   "cell_type": "markdown",
   "metadata": {},
   "source": [
    "**Missing value analysis**"
   ]
  },
  {
   "cell_type": "markdown",
   "metadata": {},
   "source": [
    "No missing values present in training dataset."
   ]
  },
  {
   "cell_type": "code",
   "execution_count": 10,
   "metadata": {
    "execution": {
     "iopub.execute_input": "2022-08-03T08:30:53.863079Z",
     "iopub.status.busy": "2022-08-03T08:30:53.862559Z",
     "iopub.status.idle": "2022-08-03T08:30:53.872810Z",
     "shell.execute_reply": "2022-08-03T08:30:53.871910Z",
     "shell.execute_reply.started": "2022-08-03T08:30:53.863022Z"
    }
   },
   "outputs": [],
   "source": [
    "#Missing values in dataset\n",
    "bike_df.isnull().sum()"
   ]
  },
  {
   "cell_type": "markdown",
   "metadata": {},
   "source": [
    "**Attributes distributions and trends**"
   ]
  },
  {
   "cell_type": "markdown",
   "metadata": {},
   "source": [
    "**Monthly distribution of counts**"
   ]
  },
  {
   "cell_type": "code",
   "execution_count": 11,
   "metadata": {
    "execution": {
     "iopub.execute_input": "2022-08-03T08:30:53.874619Z",
     "iopub.status.busy": "2022-08-03T08:30:53.874134Z",
     "iopub.status.idle": "2022-08-03T08:30:56.936398Z",
     "shell.execute_reply": "2022-08-03T08:30:56.935629Z",
     "shell.execute_reply.started": "2022-08-03T08:30:53.874565Z"
    }
   },
   "outputs": [],
   "source": [
    "fig,ax=plt.subplots(figsize=(15,8))\n",
    "sns.set_style('white')\n",
    "#Bar plot for seasonwise monthly distribution of counts\n",
    "sns.barplot(x='month',y='total_count',data=bike_df[['month','total_count','season']],hue='season',ax=ax)\n",
    "ax.set_title('Seasonwise monthly distribution of counts')\n",
    "plt.show()\n",
    "#Bar plot for weekday wise monthly distribution of counts\n",
    "fig,ax1=plt.subplots(figsize=(15,8))\n",
    "sns.barplot(x='month',y='total_count',data=bike_df[['month','total_count','weekday']],hue='weekday',ax=ax1)\n",
    "ax1.set_title('Weekday wise monthly distribution of counts')\n",
    "plt.show()"
   ]
  },
  {
   "cell_type": "markdown",
   "metadata": {},
   "source": [
    "From the above plots, we can observed that increasing the bike rental count in springe and summer season and then decreasing the bike rental count in fall and winter season.\n",
    "Here, \n",
    "\n",
    "season 1-> spring season 2 -> summer season 3 -> fall season 4 -> winter"
   ]
  },
  {
   "cell_type": "markdown",
   "metadata": {},
   "source": [
    "**Yearly wise distribution of counts**"
   ]
  },
  {
   "cell_type": "code",
   "execution_count": 12,
   "metadata": {
    "execution": {
     "iopub.execute_input": "2022-08-03T08:30:56.938078Z",
     "iopub.status.busy": "2022-08-03T08:30:56.937787Z",
     "iopub.status.idle": "2022-08-03T08:30:57.439193Z",
     "shell.execute_reply": "2022-08-03T08:30:57.438368Z",
     "shell.execute_reply.started": "2022-08-03T08:30:56.938019Z"
    }
   },
   "outputs": [],
   "source": [
    "fig,ax=plt.subplots(figsize=(15,8))\n",
    "#Violin plot for yearly distribution of counts\n",
    "sns.violinplot(x='year',y='total_count',data=bike_df[['year','total_count']])\n",
    "ax.set_title('Yearly distribution of counts')\n",
    "plt.show()"
   ]
  },
  {
   "cell_type": "markdown",
   "metadata": {},
   "source": [
    "From the violin plot, we can observed that the bike rental count distribution is highest in year 2012 then in year 2011. \n",
    "\n",
    "Here,  \n",
    "year 0-> 2011, year 1-> 2012"
   ]
  },
  {
   "cell_type": "markdown",
   "metadata": {},
   "source": [
    "**Holiday wise distribution of counts**"
   ]
  },
  {
   "cell_type": "code",
   "execution_count": 13,
   "metadata": {
    "execution": {
     "iopub.execute_input": "2022-08-03T08:30:57.440738Z",
     "iopub.status.busy": "2022-08-03T08:30:57.440472Z",
     "iopub.status.idle": "2022-08-03T08:30:58.018216Z",
     "shell.execute_reply": "2022-08-03T08:30:58.017307Z",
     "shell.execute_reply.started": "2022-08-03T08:30:57.440687Z"
    }
   },
   "outputs": [],
   "source": [
    "fig,ax=plt.subplots(figsize=(15,8))\n",
    "#Barplot for Holiday distribution of counts\n",
    "sns.barplot(data=bike_df,x='holiday',y='total_count',hue='season')\n",
    "ax.set_title('Holiday wise distribution of counts')\n",
    "plt.show()"
   ]
  },
  {
   "cell_type": "markdown",
   "metadata": {},
   "source": [
    "From the above bar plot, we can observed that during no holiday the bike rental counts is highest compared to during holiday for different seasons.\n",
    "\n",
    "Here, 0->No holiday, 1-> holiday"
   ]
  },
  {
   "cell_type": "markdown",
   "metadata": {},
   "source": [
    "**Workingday wise distribution of counts**"
   ]
  },
  {
   "cell_type": "code",
   "execution_count": 14,
   "metadata": {
    "execution": {
     "iopub.execute_input": "2022-08-03T08:30:58.019919Z",
     "iopub.status.busy": "2022-08-03T08:30:58.019605Z",
     "iopub.status.idle": "2022-08-03T08:30:58.657303Z",
     "shell.execute_reply": "2022-08-03T08:30:58.656331Z",
     "shell.execute_reply.started": "2022-08-03T08:30:58.019863Z"
    }
   },
   "outputs": [],
   "source": [
    "fig,ax=plt.subplots(figsize=(15,8))\n",
    "#Bar plot for workingday distribution of counts\n",
    "sns.barplot(data=bike_df,x='workingday',y='total_count',hue='season')\n",
    "ax.set_title('Workingday wise distribution of counts')\n",
    "plt.show()"
   ]
  },
  {
   "cell_type": "markdown",
   "metadata": {},
   "source": [
    "From the above bar plot, we can observed that during workingday the bike rental counts is quite highest compared to during no workingday for different seasons.\n",
    "\n",
    "Here, 0-> No workingday, 1-> workingday"
   ]
  },
  {
   "cell_type": "markdown",
   "metadata": {},
   "source": [
    "**Weather_condition distribution of counts**"
   ]
  },
  {
   "cell_type": "code",
   "execution_count": 15,
   "metadata": {
    "execution": {
     "iopub.execute_input": "2022-08-03T08:30:58.659207Z",
     "iopub.status.busy": "2022-08-03T08:30:58.658844Z",
     "iopub.status.idle": "2022-08-03T08:30:59.092454Z",
     "shell.execute_reply": "2022-08-03T08:30:59.091590Z",
     "shell.execute_reply.started": "2022-08-03T08:30:58.659137Z"
    }
   },
   "outputs": [],
   "source": [
    "fig,ax1=plt.subplots(figsize=(15,8))\n",
    "#Bar plot for weather_condition distribution of counts\n",
    "sns.barplot(x='weather_condition',y='total_count',data=bike_df[['month','total_count','weather_condition']],ax=ax1)\n",
    "ax1.set_title('Weather_condition wise monthly distribution of counts')\n",
    "plt.show()"
   ]
  },
  {
   "cell_type": "markdown",
   "metadata": {},
   "source": [
    "From the above bar plot, we can observed that during clear,partly cloudy weather the bike rental count is highest and the second highest is during mist cloudy weather and followed by third highest during light snow and light rain weather."
   ]
  },
  {
   "cell_type": "markdown",
   "metadata": {},
   "source": [
    "**Outlier analysis**"
   ]
  },
  {
   "cell_type": "markdown",
   "metadata": {},
   "source": [
    "**Total_Count_Outliers**"
   ]
  },
  {
   "cell_type": "code",
   "execution_count": 16,
   "metadata": {
    "execution": {
     "iopub.execute_input": "2022-08-03T08:30:59.094362Z",
     "iopub.status.busy": "2022-08-03T08:30:59.094091Z",
     "iopub.status.idle": "2022-08-03T08:30:59.458466Z",
     "shell.execute_reply": "2022-08-03T08:30:59.457464Z",
     "shell.execute_reply.started": "2022-08-03T08:30:59.094309Z"
    }
   },
   "outputs": [],
   "source": [
    "fig,ax=plt.subplots(figsize=(15,8))\n",
    "#Boxplot for total_count outliers\n",
    "sns.boxplot(data=bike_df[['total_count']])\n",
    "ax.set_title('total_count outliers')\n",
    "plt.show()"
   ]
  },
  {
   "cell_type": "markdown",
   "metadata": {},
   "source": [
    "From the box plot, we can observed that no outliers are present in total_count variable."
   ]
  },
  {
   "cell_type": "markdown",
   "metadata": {},
   "source": [
    "**Temp_windspeed_humidity_outliers**"
   ]
  },
  {
   "cell_type": "code",
   "execution_count": 17,
   "metadata": {
    "execution": {
     "iopub.execute_input": "2022-08-03T08:30:59.460470Z",
     "iopub.status.busy": "2022-08-03T08:30:59.460156Z",
     "iopub.status.idle": "2022-08-03T08:30:59.857576Z",
     "shell.execute_reply": "2022-08-03T08:30:59.856613Z",
     "shell.execute_reply.started": "2022-08-03T08:30:59.460414Z"
    }
   },
   "outputs": [],
   "source": [
    "fig,ax=plt.subplots(figsize=(15,8))\n",
    "#Box plot for Temp_windspeed_humidity_outliers\n",
    "sns.boxplot(data=bike_df[['temp','windspeed','humidity']])\n",
    "ax.set_title('Temp_windspeed_humidity_outiers')\n",
    "plt.show()"
   ]
  },
  {
   "cell_type": "markdown",
   "metadata": {},
   "source": [
    "From the box plot, we can observed that no outliers are present in normalized temp but few outliers are present in normalized windspeed and humidity variable."
   ]
  },
  {
   "cell_type": "markdown",
   "metadata": {},
   "source": [
    "**Replace and impute the outliers**"
   ]
  },
  {
   "cell_type": "code",
   "execution_count": 18,
   "metadata": {
    "execution": {
     "iopub.execute_input": "2022-08-03T08:30:59.859463Z",
     "iopub.status.busy": "2022-08-03T08:30:59.859109Z",
     "iopub.status.idle": "2022-08-03T08:31:01.365908Z",
     "shell.execute_reply": "2022-08-03T08:31:01.365095Z",
     "shell.execute_reply.started": "2022-08-03T08:30:59.859395Z"
    }
   },
   "outputs": [],
   "source": [
    "from fancyimpute import KNN\n",
    "\n",
    "#create dataframe for outliers\n",
    "wind_hum=pd.DataFrame(bike_df,columns=['windspeed','humidity'])\n",
    " #Cnames for outliers                     \n",
    "cnames=['windspeed','humidity']       \n",
    "                      \n",
    "for i in cnames:\n",
    "    q75,q25=np.percentile(wind_hum.loc[:,i],[75,25]) # Divide data into 75%quantile and 25%quantile.\n",
    "    iqr=q75-q25 #Inter quantile range\n",
    "    min=q25-(iqr*1.5) #inner fence\n",
    "    max=q75+(iqr*1.5) #outer fence\n",
    "    wind_hum.loc[wind_hum.loc[:,i]<min,:i]=np.nan  #Replace with NA\n",
    "    wind_hum.loc[wind_hum.loc[:,i]>max,:i]=np.nan  #Replace with NA\n",
    "#Imputating the outliers by mean Imputation\n",
    "wind_hum['windspeed']=wind_hum['windspeed'].fillna(wind_hum['windspeed'].mean())\n",
    "wind_hum['humidity']=wind_hum['humidity'].fillna(wind_hum['humidity'].mean())"
   ]
  },
  {
   "cell_type": "markdown",
   "metadata": {},
   "source": [
    "**Replace the original dataset to imputated data**"
   ]
  },
  {
   "cell_type": "code",
   "execution_count": 19,
   "metadata": {
    "execution": {
     "iopub.execute_input": "2022-08-03T08:31:01.367404Z",
     "iopub.status.busy": "2022-08-03T08:31:01.367153Z",
     "iopub.status.idle": "2022-08-03T08:31:01.472202Z",
     "shell.execute_reply": "2022-08-03T08:31:01.471131Z",
     "shell.execute_reply.started": "2022-08-03T08:31:01.367358Z"
    }
   },
   "outputs": [],
   "source": [
    "#Replacing the imputated windspeed\n",
    "bike_df['windspeed']=bike_df['windspeed'].replace(wind_hum['windspeed'])\n",
    "#Replacing the imputated humidity\n",
    "bike_df['humidity']=bike_df['humidity'].replace(wind_hum['humidity'])\n",
    "bike_df.head(5)"
   ]
  },
  {
   "cell_type": "markdown",
   "metadata": {},
   "source": [
    "**Normal Probability Plot**"
   ]
  },
  {
   "cell_type": "markdown",
   "metadata": {},
   "source": [
    "Normal probability plot is a graphical technique to identify substantive departures from normality and also it tells about goodness of fit."
   ]
  },
  {
   "cell_type": "code",
   "execution_count": 20,
   "metadata": {
    "execution": {
     "iopub.execute_input": "2022-08-03T08:31:01.473563Z",
     "iopub.status.busy": "2022-08-03T08:31:01.473315Z",
     "iopub.status.idle": "2022-08-03T08:31:01.890736Z",
     "shell.execute_reply": "2022-08-03T08:31:01.889811Z",
     "shell.execute_reply.started": "2022-08-03T08:31:01.473517Z"
    }
   },
   "outputs": [],
   "source": [
    "import scipy\n",
    "from scipy import stats\n",
    "#Normal plot\n",
    "fig=plt.figure(figsize=(15,8))\n",
    "stats.probplot(bike_df.total_count.tolist(),dist='norm',plot=plt)\n",
    "plt.show()"
   ]
  },
  {
   "cell_type": "markdown",
   "metadata": {},
   "source": [
    "The above probability plot, the some target variable data points are deviates from normality."
   ]
  },
  {
   "cell_type": "markdown",
   "metadata": {},
   "source": [
    "**Correlation matrix**"
   ]
  },
  {
   "cell_type": "markdown",
   "metadata": {},
   "source": [
    "Correlation matrix is tells about linear relationship between attributes and help us to build better models."
   ]
  },
  {
   "cell_type": "code",
   "execution_count": 21,
   "metadata": {
    "execution": {
     "iopub.execute_input": "2022-08-03T08:31:01.892850Z",
     "iopub.status.busy": "2022-08-03T08:31:01.892211Z",
     "iopub.status.idle": "2022-08-03T08:31:02.577477Z",
     "shell.execute_reply": "2022-08-03T08:31:02.576420Z",
     "shell.execute_reply.started": "2022-08-03T08:31:01.892789Z"
    }
   },
   "outputs": [],
   "source": [
    "#Create the correlation matrix\n",
    "correMtr=bike_df[[\"temp\",\"atemp\",\"humidity\",\"windspeed\",\"casual\",\"registered\",\"total_count\"]].corr()\n",
    "mask=np.array(correMtr)\n",
    "mask[np.tril_indices_from(mask)]=False\n",
    "#Heat map for correlation matrix of attributes\n",
    "fig,ax=plt.subplots(figsize=(15,8))\n",
    "sns.heatmap(correMtr,mask=mask,vmax=0.8,square=True,annot=True,ax=ax)\n",
    "ax.set_title('Correlation matrix of attributes')\n",
    "plt.show()"
   ]
  },
  {
   "cell_type": "markdown",
   "metadata": {},
   "source": [
    "From correlation plot, we can observed that some features are positively correlated or some are negatively correlated to each other. The temp and atemp are highly positively correlated to each other, it means that both are carrying same information.The total_count,casual and registered are highly positively correlated to each other. So, we are going to ignore atemp,casual and registered variable for further analysis."
   ]
  },
  {
   "cell_type": "markdown",
   "metadata": {},
   "source": [
    "**Modelling the dataset**"
   ]
  },
  {
   "cell_type": "code",
   "execution_count": 22,
   "metadata": {
    "execution": {
     "iopub.execute_input": "2022-08-03T08:31:02.580008Z",
     "iopub.status.busy": "2022-08-03T08:31:02.579488Z",
     "iopub.status.idle": "2022-08-03T08:31:02.585156Z",
     "shell.execute_reply": "2022-08-03T08:31:02.584046Z",
     "shell.execute_reply.started": "2022-08-03T08:31:02.579773Z"
    }
   },
   "outputs": [],
   "source": [
    "#load the required libraries\n",
    "from sklearn import preprocessing,metrics,linear_model\n",
    "from sklearn.model_selection import cross_val_score,cross_val_predict,train_test_split"
   ]
  },
  {
   "cell_type": "markdown",
   "metadata": {},
   "source": [
    "Split the dataset into train and test in the ratio of 70:30"
   ]
  },
  {
   "cell_type": "code",
   "execution_count": 23,
   "metadata": {
    "execution": {
     "iopub.execute_input": "2022-08-03T08:31:02.587553Z",
     "iopub.status.busy": "2022-08-03T08:31:02.587033Z",
     "iopub.status.idle": "2022-08-03T08:31:02.624544Z",
     "shell.execute_reply": "2022-08-03T08:31:02.623807Z",
     "shell.execute_reply.started": "2022-08-03T08:31:02.587305Z"
    }
   },
   "outputs": [],
   "source": [
    "#Split the dataset into the train and test data\n",
    "from sklearn.model_selection import train_test_split\n",
    "X_train,X_test,y_train,y_test=train_test_split(bike_df.iloc[:,0:-3],bike_df.iloc[:,-1],test_size=0.3, random_state=42)\n",
    "\n",
    "#Reset train index values\n",
    "X_train.reset_index(inplace=True)\n",
    "y_train=y_train.reset_index()\n",
    "\n",
    "# Reset train index values\n",
    "X_test.reset_index(inplace=True)\n",
    "y_test=y_test.reset_index()\n",
    "\n",
    "print(X_train.shape,X_test.shape,y_train.shape,y_test.shape)\n",
    "print(y_train.head())\n",
    "print(y_test.head())"
   ]
  },
  {
   "cell_type": "markdown",
   "metadata": {},
   "source": [
    "**Split the features into categorical and numerical features**"
   ]
  },
  {
   "cell_type": "code",
   "execution_count": 24,
   "metadata": {
    "execution": {
     "iopub.execute_input": "2022-08-03T08:31:02.625981Z",
     "iopub.status.busy": "2022-08-03T08:31:02.625571Z",
     "iopub.status.idle": "2022-08-03T08:31:02.634806Z",
     "shell.execute_reply": "2022-08-03T08:31:02.634136Z",
     "shell.execute_reply.started": "2022-08-03T08:31:02.625927Z"
    }
   },
   "outputs": [],
   "source": [
    "#Create a new dataset for train attributes\n",
    "train_attributes=X_train[['season','month','year','weekday','holiday','workingday','weather_condition','humidity','temp','windspeed']]\n",
    "#Create a new dataset for test attributes\n",
    "test_attributes=X_test[['season','month','year','weekday','holiday','workingday','humidity','temp','windspeed','weather_condition']]\n",
    "#categorical attributes\n",
    "cat_attributes=['season','holiday','workingday','weather_condition','year']\n",
    "#numerical attributes\n",
    "num_attributes=['temp','windspeed','humidity','month','weekday']"
   ]
  },
  {
   "cell_type": "markdown",
   "metadata": {},
   "source": [
    "**Decoding the training attributes**"
   ]
  },
  {
   "cell_type": "code",
   "execution_count": 25,
   "metadata": {
    "execution": {
     "iopub.execute_input": "2022-08-03T08:31:02.636694Z",
     "iopub.status.busy": "2022-08-03T08:31:02.636139Z",
     "iopub.status.idle": "2022-08-03T08:31:02.688073Z",
     "shell.execute_reply": "2022-08-03T08:31:02.687166Z",
     "shell.execute_reply.started": "2022-08-03T08:31:02.636637Z"
    }
   },
   "outputs": [],
   "source": [
    "#To get dummy variables to encode the categorical features to numeric\n",
    "train_encoded_attributes=pd.get_dummies(train_attributes,columns=cat_attributes)\n",
    "print('Shape of transfomed dataframe::',train_encoded_attributes.shape)\n",
    "train_encoded_attributes.head(5)"
   ]
  },
  {
   "cell_type": "markdown",
   "metadata": {},
   "source": [
    "**Training dataset**"
   ]
  },
  {
   "cell_type": "code",
   "execution_count": 26,
   "metadata": {
    "execution": {
     "iopub.execute_input": "2022-08-03T08:31:02.689862Z",
     "iopub.status.busy": "2022-08-03T08:31:02.689364Z",
     "iopub.status.idle": "2022-08-03T08:31:02.694678Z",
     "shell.execute_reply": "2022-08-03T08:31:02.693743Z",
     "shell.execute_reply.started": "2022-08-03T08:31:02.689803Z"
    }
   },
   "outputs": [],
   "source": [
    "#Training dataset for modelling\n",
    "X_train=train_encoded_attributes\n",
    "y_train=y_train.total_count.values"
   ]
  },
  {
   "cell_type": "markdown",
   "metadata": {},
   "source": [
    "**Linear Regression Model**"
   ]
  },
  {
   "cell_type": "code",
   "execution_count": 27,
   "metadata": {
    "execution": {
     "iopub.execute_input": "2022-08-03T08:31:02.696674Z",
     "iopub.status.busy": "2022-08-03T08:31:02.696091Z",
     "iopub.status.idle": "2022-08-03T08:31:02.709127Z",
     "shell.execute_reply": "2022-08-03T08:31:02.708115Z",
     "shell.execute_reply.started": "2022-08-03T08:31:02.696618Z"
    }
   },
   "outputs": [],
   "source": [
    "#training model\n",
    "lr_model=linear_model.LinearRegression()\n",
    "lr_model"
   ]
  },
  {
   "cell_type": "markdown",
   "metadata": {},
   "source": [
    "**fit the training model**"
   ]
  },
  {
   "cell_type": "code",
   "execution_count": 28,
   "metadata": {
    "execution": {
     "iopub.execute_input": "2022-08-03T08:31:02.711646Z",
     "iopub.status.busy": "2022-08-03T08:31:02.711022Z",
     "iopub.status.idle": "2022-08-03T08:31:02.768841Z",
     "shell.execute_reply": "2022-08-03T08:31:02.767671Z",
     "shell.execute_reply.started": "2022-08-03T08:31:02.711572Z"
    }
   },
   "outputs": [],
   "source": [
    "#fit the trained model\n",
    "lr_model.fit(X_train,y_train)"
   ]
  },
  {
   "cell_type": "markdown",
   "metadata": {},
   "source": [
    "**Accuracy of model**"
   ]
  },
  {
   "cell_type": "code",
   "execution_count": 29,
   "metadata": {
    "execution": {
     "iopub.execute_input": "2022-08-03T08:31:02.770787Z",
     "iopub.status.busy": "2022-08-03T08:31:02.770456Z",
     "iopub.status.idle": "2022-08-03T08:31:02.779947Z",
     "shell.execute_reply": "2022-08-03T08:31:02.779146Z",
     "shell.execute_reply.started": "2022-08-03T08:31:02.770721Z"
    }
   },
   "outputs": [],
   "source": [
    "#Accuracy of the model\n",
    "lr=lr_model.score(X_train,y_train)\n",
    "print('Accuracy of the model :',lr)\n",
    "print('Model coefficients :',lr_model.coef_)\n",
    "print('Model intercept value :',lr_model.intercept_)"
   ]
  },
  {
   "cell_type": "markdown",
   "metadata": {},
   "source": [
    "**Cross validation prediction**"
   ]
  },
  {
   "cell_type": "code",
   "execution_count": 30,
   "metadata": {
    "execution": {
     "iopub.execute_input": "2022-08-03T08:31:02.781712Z",
     "iopub.status.busy": "2022-08-03T08:31:02.781418Z",
     "iopub.status.idle": "2022-08-03T08:31:02.818472Z",
     "shell.execute_reply": "2022-08-03T08:31:02.817682Z",
     "shell.execute_reply.started": "2022-08-03T08:31:02.781610Z"
    }
   },
   "outputs": [],
   "source": [
    "#Cross validation prediction\n",
    "predict=cross_val_predict(lr_model,X_train,y_train,cv=3)\n",
    "predict"
   ]
  },
  {
   "cell_type": "markdown",
   "metadata": {},
   "source": [
    "**Cross validation prediction plot**"
   ]
  },
  {
   "cell_type": "code",
   "execution_count": 31,
   "metadata": {
    "execution": {
     "iopub.execute_input": "2022-08-03T08:31:02.819929Z",
     "iopub.status.busy": "2022-08-03T08:31:02.819705Z",
     "iopub.status.idle": "2022-08-03T08:31:03.241964Z",
     "shell.execute_reply": "2022-08-03T08:31:03.241053Z",
     "shell.execute_reply.started": "2022-08-03T08:31:02.819893Z"
    }
   },
   "outputs": [],
   "source": [
    "#Cross validation plot\n",
    "fig,ax=plt.subplots(figsize=(15,8))\n",
    "ax.scatter(y_train,y_train-predict)\n",
    "ax.axhline(lw=2,color='black')\n",
    "ax.set_title('Cross validation prediction plot')\n",
    "ax.set_xlabel('Observed')\n",
    "ax.set_ylabel('Residual')\n",
    "plt.show()"
   ]
  },
  {
   "cell_type": "markdown",
   "metadata": {},
   "source": [
    "Cross validation prediction plot tells about finite variance between actual target value and predicted target value. In this plot, some data points are have same finite variance between them and for some are not have it."
   ]
  },
  {
   "cell_type": "markdown",
   "metadata": {},
   "source": [
    "**Model evalution metrics**"
   ]
  },
  {
   "cell_type": "markdown",
   "metadata": {},
   "source": [
    "**R-squared and mean squared error score**"
   ]
  },
  {
   "cell_type": "code",
   "execution_count": 32,
   "metadata": {
    "execution": {
     "iopub.execute_input": "2022-08-03T08:31:03.243814Z",
     "iopub.status.busy": "2022-08-03T08:31:03.243294Z",
     "iopub.status.idle": "2022-08-03T08:31:03.270943Z",
     "shell.execute_reply": "2022-08-03T08:31:03.269933Z",
     "shell.execute_reply.started": "2022-08-03T08:31:03.243757Z"
    }
   },
   "outputs": [],
   "source": [
    "#R-squared scores\n",
    "r2_scores = cross_val_score(lr_model, X_train, y_train, cv=3)\n",
    "print('R-squared scores :',np.average(r2_scores))"
   ]
  },
  {
   "cell_type": "markdown",
   "metadata": {},
   "source": [
    "The R-squared or coefficient of determination is 0.80 on average for 3-fold cross validation , it means that predictor is only able to predict 80% of the variance in the target variable which is contributed by independent variables."
   ]
  },
  {
   "cell_type": "markdown",
   "metadata": {},
   "source": [
    "**Decoding the test attributes**"
   ]
  },
  {
   "cell_type": "code",
   "execution_count": 33,
   "metadata": {
    "execution": {
     "iopub.execute_input": "2022-08-03T08:31:03.272701Z",
     "iopub.status.busy": "2022-08-03T08:31:03.272096Z",
     "iopub.status.idle": "2022-08-03T08:31:03.323843Z",
     "shell.execute_reply": "2022-08-03T08:31:03.322916Z",
     "shell.execute_reply.started": "2022-08-03T08:31:03.272321Z"
    }
   },
   "outputs": [],
   "source": [
    "#To get dummy variables to encode the categorical features to numeric\n",
    "test_encoded_attributes=pd.get_dummies(test_attributes,columns=cat_attributes)\n",
    "print('Shape of transformed dataframe :',test_encoded_attributes.shape)\n",
    "test_encoded_attributes.head(5)"
   ]
  },
  {
   "cell_type": "markdown",
   "metadata": {},
   "source": [
    "**Model performance on test dataset**"
   ]
  },
  {
   "cell_type": "code",
   "execution_count": 34,
   "metadata": {
    "execution": {
     "iopub.execute_input": "2022-08-03T08:31:03.326005Z",
     "iopub.status.busy": "2022-08-03T08:31:03.325472Z",
     "iopub.status.idle": "2022-08-03T08:31:03.331190Z",
     "shell.execute_reply": "2022-08-03T08:31:03.329902Z",
     "shell.execute_reply.started": "2022-08-03T08:31:03.325780Z"
    }
   },
   "outputs": [],
   "source": [
    "#Test dataset for prediction\n",
    "X_test=test_encoded_attributes\n",
    "y_test=y_test.total_count.values"
   ]
  },
  {
   "cell_type": "markdown",
   "metadata": {},
   "source": [
    "**Predict the model**"
   ]
  },
  {
   "cell_type": "code",
   "execution_count": 35,
   "metadata": {
    "execution": {
     "iopub.execute_input": "2022-08-03T08:31:03.332704Z",
     "iopub.status.busy": "2022-08-03T08:31:03.332452Z",
     "iopub.status.idle": "2022-08-03T08:31:03.352813Z",
     "shell.execute_reply": "2022-08-03T08:31:03.351636Z",
     "shell.execute_reply.started": "2022-08-03T08:31:03.332658Z"
    }
   },
   "outputs": [],
   "source": [
    "#predict the model\n",
    "lr_pred=lr_model.predict(X_test)\n",
    "lr_pred"
   ]
  },
  {
   "cell_type": "markdown",
   "metadata": {},
   "source": [
    "**Model evaluation metrics**"
   ]
  },
  {
   "cell_type": "markdown",
   "metadata": {},
   "source": [
    "**Root mean square error and mean absolute error scores**"
   ]
  },
  {
   "cell_type": "code",
   "execution_count": 36,
   "metadata": {
    "execution": {
     "iopub.execute_input": "2022-08-03T08:31:03.354499Z",
     "iopub.status.busy": "2022-08-03T08:31:03.354114Z",
     "iopub.status.idle": "2022-08-03T08:31:03.361676Z",
     "shell.execute_reply": "2022-08-03T08:31:03.360625Z",
     "shell.execute_reply.started": "2022-08-03T08:31:03.354456Z"
    }
   },
   "outputs": [],
   "source": [
    "import math\n",
    "#Root mean square error \n",
    "rmse=math.sqrt(metrics.mean_squared_error(y_test,lr_pred))\n",
    "#Mean absolute error\n",
    "mae=metrics.mean_absolute_error(y_test,lr_pred)\n",
    "print('Root mean square error :',rmse)\n",
    "print('Mean absolute error :',mae)"
   ]
  },
  {
   "cell_type": "markdown",
   "metadata": {},
   "source": [
    "**Residual plot**"
   ]
  },
  {
   "cell_type": "code",
   "execution_count": 37,
   "metadata": {
    "execution": {
     "iopub.execute_input": "2022-08-03T08:31:03.363559Z",
     "iopub.status.busy": "2022-08-03T08:31:03.362974Z",
     "iopub.status.idle": "2022-08-03T08:31:03.775099Z",
     "shell.execute_reply": "2022-08-03T08:31:03.774050Z",
     "shell.execute_reply.started": "2022-08-03T08:31:03.363287Z"
    }
   },
   "outputs": [],
   "source": [
    "#Residual plot\n",
    "fig, ax = plt.subplots(figsize=(15,8))\n",
    "ax.scatter(y_test, y_test-lr_pred)\n",
    "ax.axhline(lw=2,color='black')\n",
    "ax.set_xlabel('Observed')\n",
    "ax.set_ylabel('Residuals')\n",
    "ax.title.set_text(\"Residual Plot\")\n",
    "plt.show()"
   ]
  },
  {
   "cell_type": "markdown",
   "metadata": {},
   "source": [
    "Residual plot tells about finite variance between actual target value and predicted target value.In this plot,very less data points are have same finite variance between them and for most are not have it."
   ]
  },
  {
   "cell_type": "markdown",
   "metadata": {},
   "source": [
    "**Decision tree regressor**"
   ]
  },
  {
   "cell_type": "code",
   "execution_count": 38,
   "metadata": {
    "execution": {
     "iopub.execute_input": "2022-08-03T08:31:03.776635Z",
     "iopub.status.busy": "2022-08-03T08:31:03.776389Z",
     "iopub.status.idle": "2022-08-03T08:31:03.803651Z",
     "shell.execute_reply": "2022-08-03T08:31:03.802802Z",
     "shell.execute_reply.started": "2022-08-03T08:31:03.776589Z"
    }
   },
   "outputs": [],
   "source": [
    "#training the model\n",
    "from sklearn.tree import DecisionTreeRegressor\n",
    "dtr=DecisionTreeRegressor(min_samples_split=2,max_leaf_nodes=10)"
   ]
  },
  {
   "cell_type": "markdown",
   "metadata": {},
   "source": [
    "**Fit the model**"
   ]
  },
  {
   "cell_type": "code",
   "execution_count": 39,
   "metadata": {
    "execution": {
     "iopub.execute_input": "2022-08-03T08:31:03.805359Z",
     "iopub.status.busy": "2022-08-03T08:31:03.804913Z",
     "iopub.status.idle": "2022-08-03T08:31:03.816580Z",
     "shell.execute_reply": "2022-08-03T08:31:03.815648Z",
     "shell.execute_reply.started": "2022-08-03T08:31:03.805275Z"
    }
   },
   "outputs": [],
   "source": [
    "#Fit the trained model\n",
    "dtr.fit(X_train,y_train)"
   ]
  },
  {
   "cell_type": "markdown",
   "metadata": {},
   "source": [
    "**Decision tree regression accuracy score**"
   ]
  },
  {
   "cell_type": "code",
   "execution_count": 40,
   "metadata": {
    "execution": {
     "iopub.execute_input": "2022-08-03T08:31:03.818600Z",
     "iopub.status.busy": "2022-08-03T08:31:03.818242Z",
     "iopub.status.idle": "2022-08-03T08:31:03.828972Z",
     "shell.execute_reply": "2022-08-03T08:31:03.827869Z",
     "shell.execute_reply.started": "2022-08-03T08:31:03.818532Z"
    }
   },
   "outputs": [],
   "source": [
    "#Accuracy score of the model\n",
    "dtr_score=dtr.score(X_train,y_train)\n",
    "print('Accuracy of model :',dtr_score)"
   ]
  },
  {
   "cell_type": "markdown",
   "metadata": {},
   "source": [
    "**Plot the learned model**"
   ]
  },
  {
   "cell_type": "code",
   "execution_count": 41,
   "metadata": {
    "execution": {
     "iopub.execute_input": "2022-08-03T08:31:03.831076Z",
     "iopub.status.busy": "2022-08-03T08:31:03.830627Z",
     "iopub.status.idle": "2022-08-03T08:31:03.971314Z",
     "shell.execute_reply": "2022-08-03T08:31:03.970370Z",
     "shell.execute_reply.started": "2022-08-03T08:31:03.830939Z"
    }
   },
   "outputs": [],
   "source": [
    "#Plot the learned model\n",
    "from sklearn import tree\n",
    "import pydot\n",
    "import graphviz\n",
    "\n",
    "# export the learned model to tree\n",
    "dot_data = tree.export_graphviz(dtr, out_file=None) \n",
    "graph = graphviz.Source(dot_data) \n",
    "graph"
   ]
  },
  {
   "cell_type": "markdown",
   "metadata": {},
   "source": [
    "Cross validation prediction"
   ]
  },
  {
   "cell_type": "code",
   "execution_count": 42,
   "metadata": {
    "execution": {
     "iopub.execute_input": "2022-08-03T08:31:03.973522Z",
     "iopub.status.busy": "2022-08-03T08:31:03.973230Z",
     "iopub.status.idle": "2022-08-03T08:31:04.010100Z",
     "shell.execute_reply": "2022-08-03T08:31:04.009319Z",
     "shell.execute_reply.started": "2022-08-03T08:31:03.973467Z"
    }
   },
   "outputs": [],
   "source": [
    "predict=cross_val_predict(dtr,X_train,y_train,cv=3)\n",
    "predict"
   ]
  },
  {
   "cell_type": "markdown",
   "metadata": {},
   "source": [
    "**Cross validation prediction plot**"
   ]
  },
  {
   "cell_type": "code",
   "execution_count": 43,
   "metadata": {
    "execution": {
     "iopub.execute_input": "2022-08-03T08:31:04.011563Z",
     "iopub.status.busy": "2022-08-03T08:31:04.011270Z",
     "iopub.status.idle": "2022-08-03T08:31:04.413982Z",
     "shell.execute_reply": "2022-08-03T08:31:04.412780Z",
     "shell.execute_reply.started": "2022-08-03T08:31:04.011508Z"
    }
   },
   "outputs": [],
   "source": [
    "# Cross validation prediction plot\n",
    "fig,ax=plt.subplots(figsize=(15,8))\n",
    "ax.scatter(y_train,y_train-predict)\n",
    "ax.axhline(lw=2,color='black')\n",
    "ax.set_title('Cross validation prediction plot')\n",
    "ax.set_xlabel('Observed')\n",
    "ax.set_ylabel('Residual')\n",
    "plt.show()"
   ]
  },
  {
   "cell_type": "markdown",
   "metadata": {},
   "source": [
    "Cross validation prediction plot tells about finite variance between actual target value and predicted target value. In this plot,some data points are have same finite variance between them and for some are not have it."
   ]
  },
  {
   "cell_type": "markdown",
   "metadata": {},
   "source": [
    "**Model evalution metrics**"
   ]
  },
  {
   "cell_type": "markdown",
   "metadata": {},
   "source": [
    "**R-squared and mean squared error scores**"
   ]
  },
  {
   "cell_type": "code",
   "execution_count": 44,
   "metadata": {
    "execution": {
     "iopub.execute_input": "2022-08-03T08:31:04.415949Z",
     "iopub.status.busy": "2022-08-03T08:31:04.415595Z",
     "iopub.status.idle": "2022-08-03T08:31:04.442011Z",
     "shell.execute_reply": "2022-08-03T08:31:04.441297Z",
     "shell.execute_reply.started": "2022-08-03T08:31:04.415878Z"
    }
   },
   "outputs": [],
   "source": [
    "#R-squared scores\n",
    "r2_scores = cross_val_score(dtr, X_train, y_train, cv=3)\n",
    "print('R-squared scores :',np.average(r2_scores))"
   ]
  },
  {
   "cell_type": "markdown",
   "metadata": {},
   "source": [
    "The R-squared or coefficient of determination is 0.74 on average for 3-fold cross validation ,it means that predictor is only able to predict 74% of the variance in the target variable which is contributed by independent variables."
   ]
  },
  {
   "cell_type": "markdown",
   "metadata": {},
   "source": [
    "**Model performance on test dataset**"
   ]
  },
  {
   "cell_type": "code",
   "execution_count": 45,
   "metadata": {
    "execution": {
     "iopub.execute_input": "2022-08-03T08:31:04.443688Z",
     "iopub.status.busy": "2022-08-03T08:31:04.443195Z",
     "iopub.status.idle": "2022-08-03T08:31:04.452877Z",
     "shell.execute_reply": "2022-08-03T08:31:04.451897Z",
     "shell.execute_reply.started": "2022-08-03T08:31:04.443634Z"
    }
   },
   "outputs": [],
   "source": [
    "#predict the model\n",
    "dtr_pred=dtr.predict(X_test)\n",
    "dtr_pred"
   ]
  },
  {
   "cell_type": "markdown",
   "metadata": {},
   "source": [
    "**Root mean squared error and mean absolute error**"
   ]
  },
  {
   "cell_type": "code",
   "execution_count": 46,
   "metadata": {
    "execution": {
     "iopub.execute_input": "2022-08-03T08:31:04.454829Z",
     "iopub.status.busy": "2022-08-03T08:31:04.454335Z",
     "iopub.status.idle": "2022-08-03T08:31:04.467971Z",
     "shell.execute_reply": "2022-08-03T08:31:04.467147Z",
     "shell.execute_reply.started": "2022-08-03T08:31:04.454661Z"
    }
   },
   "outputs": [],
   "source": [
    "#Root mean square error\n",
    "rmse=math.sqrt(metrics.mean_squared_error(y_test,dtr_pred))\n",
    "#Mean absolute error\n",
    "mae=metrics.mean_absolute_error(y_test,dtr_pred)\n",
    "print('Root mean square error :',rmse)\n",
    "print('Mean absolute error :',mae)"
   ]
  },
  {
   "cell_type": "markdown",
   "metadata": {},
   "source": [
    "**Residual plot**"
   ]
  },
  {
   "cell_type": "code",
   "execution_count": 47,
   "metadata": {
    "execution": {
     "iopub.execute_input": "2022-08-03T08:31:04.469443Z",
     "iopub.status.busy": "2022-08-03T08:31:04.468981Z",
     "iopub.status.idle": "2022-08-03T08:31:04.794507Z",
     "shell.execute_reply": "2022-08-03T08:31:04.793615Z",
     "shell.execute_reply.started": "2022-08-03T08:31:04.469389Z"
    }
   },
   "outputs": [],
   "source": [
    "#Residual scatter plot\n",
    "residuals = y_test-dtr_pred\n",
    "fig, ax = plt.subplots(figsize=(15,8))\n",
    "ax.scatter(y_test, residuals)\n",
    "ax.axhline(lw=2,color='black')\n",
    "ax.set_xlabel('Observed')\n",
    "ax.set_ylabel('Residual')\n",
    "ax.set_title('Residual plot')\n",
    "plt.show()"
   ]
  },
  {
   "cell_type": "markdown",
   "metadata": {},
   "source": [
    "Residual plot tells about finite variance between actual target value and predicted target value. In this plot, some data points are have same finite variance between them and for some are not have it."
   ]
  },
  {
   "cell_type": "markdown",
   "metadata": {},
   "source": [
    "**Random Forest**"
   ]
  },
  {
   "cell_type": "code",
   "execution_count": 48,
   "metadata": {
    "execution": {
     "iopub.execute_input": "2022-08-03T08:31:04.796846Z",
     "iopub.status.busy": "2022-08-03T08:31:04.796343Z",
     "iopub.status.idle": "2022-08-03T08:31:04.827638Z",
     "shell.execute_reply": "2022-08-03T08:31:04.826570Z",
     "shell.execute_reply.started": "2022-08-03T08:31:04.796636Z"
    }
   },
   "outputs": [],
   "source": [
    "#Training the model\n",
    "from sklearn.ensemble import RandomForestRegressor\n",
    "X_train=train_encoded_attributes\n",
    "rf=RandomForestRegressor(n_estimators=200)"
   ]
  },
  {
   "cell_type": "markdown",
   "metadata": {},
   "source": [
    "**Fit the model**"
   ]
  },
  {
   "cell_type": "code",
   "execution_count": 49,
   "metadata": {
    "execution": {
     "iopub.execute_input": "2022-08-03T08:31:04.829481Z",
     "iopub.status.busy": "2022-08-03T08:31:04.829177Z",
     "iopub.status.idle": "2022-08-03T08:31:05.318793Z",
     "shell.execute_reply": "2022-08-03T08:31:05.317846Z",
     "shell.execute_reply.started": "2022-08-03T08:31:04.829425Z"
    }
   },
   "outputs": [],
   "source": [
    "#Fit the trained model\n",
    "rf.fit(X_train,y_train)"
   ]
  },
  {
   "cell_type": "markdown",
   "metadata": {},
   "source": [
    "**Random forest accuracy score**"
   ]
  },
  {
   "cell_type": "code",
   "execution_count": 50,
   "metadata": {
    "execution": {
     "iopub.execute_input": "2022-08-03T08:31:05.320857Z",
     "iopub.status.busy": "2022-08-03T08:31:05.320300Z",
     "iopub.status.idle": "2022-08-03T08:31:05.356115Z",
     "shell.execute_reply": "2022-08-03T08:31:05.355196Z",
     "shell.execute_reply.started": "2022-08-03T08:31:05.320704Z"
    }
   },
   "outputs": [],
   "source": [
    "#accuracy of the model\n",
    "rf_score =rf.score(X_train,y_train)\n",
    "print('Accuracy of the model :',rf_score)"
   ]
  },
  {
   "cell_type": "markdown",
   "metadata": {},
   "source": [
    "**Cross validation prediction**"
   ]
  },
  {
   "cell_type": "code",
   "execution_count": 51,
   "metadata": {
    "execution": {
     "iopub.execute_input": "2022-08-03T08:31:05.358352Z",
     "iopub.status.busy": "2022-08-03T08:31:05.357748Z",
     "iopub.status.idle": "2022-08-03T08:31:06.460495Z",
     "shell.execute_reply": "2022-08-03T08:31:06.459682Z",
     "shell.execute_reply.started": "2022-08-03T08:31:05.358096Z"
    }
   },
   "outputs": [],
   "source": [
    "#Cross validation prediction\n",
    "predict=cross_val_predict(rf,X_train,y_train,cv=3)\n",
    "predict"
   ]
  },
  {
   "cell_type": "markdown",
   "metadata": {},
   "source": [
    "**Cross validation prediction plot**"
   ]
  },
  {
   "cell_type": "code",
   "execution_count": 52,
   "metadata": {
    "execution": {
     "iopub.execute_input": "2022-08-03T08:31:06.461950Z",
     "iopub.status.busy": "2022-08-03T08:31:06.461714Z",
     "iopub.status.idle": "2022-08-03T08:31:06.790919Z",
     "shell.execute_reply": "2022-08-03T08:31:06.789864Z",
     "shell.execute_reply.started": "2022-08-03T08:31:06.461907Z"
    }
   },
   "outputs": [],
   "source": [
    "#Cross validation prediction plot\n",
    "fig,ax=plt.subplots(figsize=(15,8))\n",
    "ax.scatter(y_train,y_train-predict)\n",
    "ax.axhline(lw=2,color='black')\n",
    "ax.set_title('Cross validation prediction plot')\n",
    "ax.set_xlabel('Observed')\n",
    "ax.set_ylabel('Residual')\n",
    "plt.show()"
   ]
  },
  {
   "cell_type": "markdown",
   "metadata": {},
   "source": [
    "Cross validation prediction plot tells about finite variance between actual target value and predicted target value. In this plot,some data points are have same finite variance between them and for some are not have it."
   ]
  },
  {
   "cell_type": "markdown",
   "metadata": {},
   "source": [
    "**R-squared and mean squared error scores**"
   ]
  },
  {
   "cell_type": "code",
   "execution_count": 53,
   "metadata": {
    "execution": {
     "iopub.execute_input": "2022-08-03T08:31:06.793089Z",
     "iopub.status.busy": "2022-08-03T08:31:06.792516Z",
     "iopub.status.idle": "2022-08-03T08:31:07.894481Z",
     "shell.execute_reply": "2022-08-03T08:31:07.893516Z",
     "shell.execute_reply.started": "2022-08-03T08:31:06.793025Z"
    }
   },
   "outputs": [],
   "source": [
    "#R-squared scores\n",
    "r2_scores = cross_val_score(rf, X_train, y_train, cv=3)\n",
    "print('R-squared scores :',np.average(r2_scores))\n"
   ]
  },
  {
   "cell_type": "markdown",
   "metadata": {},
   "source": [
    "The R-squared or coefficient of determination is 0.85 on average for 3-fold cross validation , it means that predictor is only able to predict 85% of the variance in the target variable which is contributed by independent variables."
   ]
  },
  {
   "cell_type": "markdown",
   "metadata": {},
   "source": [
    "**Model performance on test dataset**"
   ]
  },
  {
   "cell_type": "code",
   "execution_count": 54,
   "metadata": {
    "execution": {
     "iopub.execute_input": "2022-08-03T08:31:07.896383Z",
     "iopub.status.busy": "2022-08-03T08:31:07.896019Z",
     "iopub.status.idle": "2022-08-03T08:31:07.925857Z",
     "shell.execute_reply": "2022-08-03T08:31:07.924902Z",
     "shell.execute_reply.started": "2022-08-03T08:31:07.896309Z"
    }
   },
   "outputs": [],
   "source": [
    "#predict the model\n",
    "X_test=test_encoded_attributes\n",
    "rf_pred=rf.predict(X_test)\n",
    "rf_pred"
   ]
  },
  {
   "cell_type": "markdown",
   "metadata": {},
   "source": [
    "**Root mean squared error and mean absolute error**"
   ]
  },
  {
   "cell_type": "code",
   "execution_count": 55,
   "metadata": {
    "execution": {
     "iopub.execute_input": "2022-08-03T08:31:07.927704Z",
     "iopub.status.busy": "2022-08-03T08:31:07.927344Z",
     "iopub.status.idle": "2022-08-03T08:31:07.934644Z",
     "shell.execute_reply": "2022-08-03T08:31:07.933503Z",
     "shell.execute_reply.started": "2022-08-03T08:31:07.927631Z"
    }
   },
   "outputs": [],
   "source": [
    "#Root mean square error\n",
    "rmse = math.sqrt(metrics.mean_squared_error(y_test,rf_pred))\n",
    "print('Root mean square error :',rmse)\n",
    "#Mean absolute error\n",
    "mae=metrics.mean_absolute_error(y_test,rf_pred)\n",
    "print('Mean absolute error :',mae)"
   ]
  },
  {
   "cell_type": "markdown",
   "metadata": {},
   "source": [
    "**Residual plot**"
   ]
  },
  {
   "cell_type": "code",
   "execution_count": 56,
   "metadata": {
    "execution": {
     "iopub.execute_input": "2022-08-03T08:31:07.937315Z",
     "iopub.status.busy": "2022-08-03T08:31:07.936930Z",
     "iopub.status.idle": "2022-08-03T08:31:08.347420Z",
     "shell.execute_reply": "2022-08-03T08:31:08.346270Z",
     "shell.execute_reply.started": "2022-08-03T08:31:07.937256Z"
    }
   },
   "outputs": [],
   "source": [
    "#Residual scatter plot\n",
    "fig, ax = plt.subplots(figsize=(15,8))\n",
    "residuals=y_test-rf_pred\n",
    "ax.scatter(y_test, residuals)\n",
    "ax.axhline(lw=2,color='black')\n",
    "ax.set_xlabel('Observed')\n",
    "ax.set_ylabel('Residuals')\n",
    "ax.set_title('Residual plot')\n",
    "plt.show()"
   ]
  },
  {
   "cell_type": "markdown",
   "metadata": {},
   "source": [
    "Cross validation prediction plot tells about finite variance between actual target value and predicted target value.In this plot,some data points are have same finite variance between them and for some are not have it."
   ]
  },
  {
   "cell_type": "markdown",
   "metadata": {},
   "source": [
    "**Final model for predicting the bike rental count on daily basis**"
   ]
  },
  {
   "cell_type": "markdown",
   "metadata": {},
   "source": [
    "When we compare the root mean squared error and mean absolute error of all 3 models, the random forest model has less root mean squared error and mean absolute error. So, finally random forest model is bset for predicting the bike rental count on daily basis."
   ]
  },
  {
   "cell_type": "code",
   "execution_count": 57,
   "metadata": {
    "execution": {
     "iopub.execute_input": "2022-08-03T08:31:08.349253Z",
     "iopub.status.busy": "2022-08-03T08:31:08.348948Z",
     "iopub.status.idle": "2022-08-03T08:31:08.589769Z",
     "shell.execute_reply": "2022-08-03T08:31:08.588845Z",
     "shell.execute_reply.started": "2022-08-03T08:31:08.349202Z"
    }
   },
   "outputs": [],
   "source": [
    "Bike_df1=pd.DataFrame(y_test,columns=['y_test'])\n",
    "Bike_df2=pd.DataFrame(rf_pred,columns=['rf_pred'])\n",
    "Bike_predictions=pd.merge(Bike_df1,Bike_df2,left_index=True,right_index=True)\n",
    "Bike_predictions.to_csv('Bike_Renting_Python.csv')\n",
    "Bike_predictions"
   ]
  }
 ],
 "metadata": {
  "kernelspec": {
   "display_name": "Python 3 (ipykernel)",
   "language": "python",
   "name": "python3"
  },
  "language_info": {
   "codemirror_mode": {
    "name": "ipython",
    "version": 3
   },
   "file_extension": ".py",
   "mimetype": "text/x-python",
   "name": "python",
   "nbconvert_exporter": "python",
   "pygments_lexer": "ipython3",
   "version": "3.9.7"
  }
 },
 "nbformat": 4,
 "nbformat_minor": 4
}
